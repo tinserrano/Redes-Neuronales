{
  "nbformat": 4,
  "nbformat_minor": 0,
  "metadata": {
    "colab": {
      "name": "Trabajo Integrador MNIST - Redes Neuronales.ipynb",
      "provenance": [],
      "collapsed_sections": [],
      "authorship_tag": "ABX9TyPzf8Gw7rv7keQmkqGtlLRV",
      "include_colab_link": true
    },
    "kernelspec": {
      "name": "python3",
      "display_name": "Python 3"
    },
    "accelerator": "GPU"
  },
  "cells": [
    {
      "cell_type": "markdown",
      "metadata": {
        "id": "view-in-github",
        "colab_type": "text"
      },
      "source": [
        "<a href=\"https://colab.research.google.com/github/tinserrano/Redes-Neuronales/blob/main/Trabajo_Integrador_MNIST_Redes_Neuronales.ipynb\" target=\"_parent\"><img src=\"https://colab.research.google.com/assets/colab-badge.svg\" alt=\"Open In Colab\"/></a>"
      ]
    },
    {
      "cell_type": "markdown",
      "metadata": {
        "id": "nKaDzeOnwZpU"
      },
      "source": [
        "**Realización de Encoder + Autoencoder Convolucional**"
      ]
    },
    {
      "cell_type": "code",
      "metadata": {
        "id": "cAbz7UJSR3pz",
        "colab": {
          "base_uri": "https://localhost:8080/"
        },
        "outputId": "ab8bb258-83cb-4242-d19e-9ba716366678"
      },
      "source": [
        "from keras.datasets import mnist\n",
        "from keras import models, layers, optimizers\n",
        "from keras.layers import Flatten, Dropout, Dense\n",
        "from keras.utils import to_categorical\n",
        "import numpy as np\n",
        "\n",
        "(train_images, train_labels), (test_images, test_labels) = mnist.load_data()\n"
      ],
      "execution_count": null,
      "outputs": [
        {
          "output_type": "stream",
          "text": [
            "Downloading data from https://storage.googleapis.com/tensorflow/tf-keras-datasets/mnist.npz\n",
            "11493376/11490434 [==============================] - 0s 0us/step\n"
          ],
          "name": "stdout"
        }
      ]
    },
    {
      "cell_type": "code",
      "metadata": {
        "id": "RlMwShkdWBIJ"
      },
      "source": [
        "#train_images.shape\n",
        "#train_images[3]"
      ],
      "execution_count": null,
      "outputs": []
    },
    {
      "cell_type": "code",
      "metadata": {
        "id": "oMEkV1ICV7N9"
      },
      "source": [
        "# Normalizo los valores de los píxeles entre 0 y 1\n",
        "train_images = train_images.reshape((60000, 28, 28,1))\n",
        "test_images = test_images.reshape((10000, 28, 28,1))\n",
        "train_images = train_images.astype(\"float32\") / 255\n",
        "test_images = test_images.astype(\"float32\") / 255.0\n",
        "train_labels = to_categorical(train_labels)\n",
        "test_labels = to_categorical(test_labels)"
      ],
      "execution_count": null,
      "outputs": []
    },
    {
      "cell_type": "code",
      "metadata": {
        "id": "f1Ruae6easLW"
      },
      "source": [
        ""
      ],
      "execution_count": null,
      "outputs": []
    },
    {
      "cell_type": "code",
      "metadata": {
        "colab": {
          "base_uri": "https://localhost:8080/"
        },
        "id": "YJ8c-oRuJw1u",
        "outputId": "78fb6d28-956e-4969-89b5-7575d0b32dc7"
      },
      "source": [
        "train_images.shape\n",
        "#train_images[3]"
      ],
      "execution_count": null,
      "outputs": [
        {
          "output_type": "execute_result",
          "data": {
            "text/plain": [
              "(60000, 28, 28, 1)"
            ]
          },
          "metadata": {
            "tags": []
          },
          "execution_count": 4
        }
      ]
    },
    {
      "cell_type": "code",
      "metadata": {
        "id": "jVqaGO35MFd9"
      },
      "source": [
        "train_image = input"
      ],
      "execution_count": null,
      "outputs": []
    },
    {
      "cell_type": "code",
      "metadata": {
        "id": "ejiaD0fBWB75"
      },
      "source": [
        "model = models.Sequential()\n",
        "\n",
        "#ENCODER\n",
        "model.add(layers.Conv2D(16, (3, 3), activation='relu', padding=\"same\", input_shape=(28, 28, 1)))\n",
        "model.add(layers.MaxPooling2D((2, 2), padding=\"same\"))\n",
        "model.add(layers.Conv2D(8, (3, 3), activation='relu', padding=\"same\"))\n",
        "model.add(layers.MaxPooling2D((2, 2), padding=\"same\"))\n",
        "model.add(layers.Conv2D(8, (3, 3), activation='relu', padding=\"same\"))\n",
        "model.add(layers.MaxPooling2D((2, 2), padding=\"same\"))\n",
        "\n",
        "\n",
        "#DECODER\n",
        "model.add(layers.Conv2D(8, (3, 3), activation='relu', padding=\"same\"))\n",
        "model.add(layers.UpSampling2D((2, 2)))\n",
        "model.add(layers.Conv2D(8, (3, 3), activation='relu', padding=\"same\"))\n",
        "model.add(layers.UpSampling2D((2, 2)))\n",
        "model.add(layers.Conv2D(16, (3, 3), activation='relu'))\n",
        "model.add(layers.UpSampling2D((2, 2)))\n",
        "model.add(layers.Conv2D(1, (3, 3), activation='sigmoid', padding=\"same\"))\n",
        "\n",
        "#model.add(layers.Flatten())\n",
        "#model.add(layers.Dense(64, activation='relu'))\n",
        "#model.add(layers.Dense(10, activation='softmax'))\n",
        "\n",
        "#model.add(layers.Flatten())\n",
        "#model.add(layers.Dense(64, activation='relu'))\n",
        "#model.add(layers.Dense(10, activation='softmax'))\n",
        "\n",
        "\n"
      ],
      "execution_count": null,
      "outputs": []
    },
    {
      "cell_type": "code",
      "metadata": {
        "id": "MfdzH4m7SGXU"
      },
      "source": [
        ""
      ],
      "execution_count": null,
      "outputs": []
    },
    {
      "cell_type": "code",
      "metadata": {
        "colab": {
          "base_uri": "https://localhost:8080/"
        },
        "id": "TMrLSkUlg0gD",
        "outputId": "e97ff40d-73fb-45c5-91d2-65f4c74e37f5"
      },
      "source": [
        "model.summary()"
      ],
      "execution_count": null,
      "outputs": [
        {
          "output_type": "stream",
          "text": [
            "Model: \"sequential\"\n",
            "_________________________________________________________________\n",
            "Layer (type)                 Output Shape              Param #   \n",
            "=================================================================\n",
            "conv2d (Conv2D)              (None, 28, 28, 16)        160       \n",
            "_________________________________________________________________\n",
            "max_pooling2d (MaxPooling2D) (None, 14, 14, 16)        0         \n",
            "_________________________________________________________________\n",
            "conv2d_1 (Conv2D)            (None, 14, 14, 8)         1160      \n",
            "_________________________________________________________________\n",
            "max_pooling2d_1 (MaxPooling2 (None, 7, 7, 8)           0         \n",
            "_________________________________________________________________\n",
            "conv2d_2 (Conv2D)            (None, 7, 7, 8)           584       \n",
            "_________________________________________________________________\n",
            "max_pooling2d_2 (MaxPooling2 (None, 4, 4, 8)           0         \n",
            "_________________________________________________________________\n",
            "conv2d_3 (Conv2D)            (None, 4, 4, 8)           584       \n",
            "_________________________________________________________________\n",
            "up_sampling2d (UpSampling2D) (None, 8, 8, 8)           0         \n",
            "_________________________________________________________________\n",
            "conv2d_4 (Conv2D)            (None, 8, 8, 8)           584       \n",
            "_________________________________________________________________\n",
            "up_sampling2d_1 (UpSampling2 (None, 16, 16, 8)         0         \n",
            "_________________________________________________________________\n",
            "conv2d_5 (Conv2D)            (None, 14, 14, 16)        1168      \n",
            "_________________________________________________________________\n",
            "up_sampling2d_2 (UpSampling2 (None, 28, 28, 16)        0         \n",
            "_________________________________________________________________\n",
            "conv2d_6 (Conv2D)            (None, 28, 28, 1)         145       \n",
            "=================================================================\n",
            "Total params: 4,385\n",
            "Trainable params: 4,385\n",
            "Non-trainable params: 0\n",
            "_________________________________________________________________\n"
          ],
          "name": "stdout"
        }
      ]
    },
    {
      "cell_type": "code",
      "metadata": {
        "id": "B9KjO6V6gyll"
      },
      "source": [
        "(x_train, _), (x_test, _) = mnist.load_data()\n",
        "\n",
        "x_train = x_train.astype('float32') / 255.\n",
        "x_test = x_test.astype('float32') / 255.\n",
        "x_train = np.reshape(x_train, (len(x_train), 28, 28, 1))\n",
        "x_test = np.reshape(x_test, (len(x_test), 28, 28, 1))"
      ],
      "execution_count": null,
      "outputs": []
    },
    {
      "cell_type": "code",
      "metadata": {
        "id": "54c8LkDZlgn9"
      },
      "source": [
        "model.compile(optimizer=\"adam\", loss=\"binary_crossentropy\", metrics = [\"accuracy\"])"
      ],
      "execution_count": null,
      "outputs": []
    },
    {
      "cell_type": "code",
      "metadata": {
        "colab": {
          "base_uri": "https://localhost:8080/"
        },
        "id": "Ny05lSr0QbEF",
        "outputId": "6ca7f3cb-67e5-426b-bee4-a162f6119c6d"
      },
      "source": [
        "encdec = model.fit(x_train, x_train,\n",
        "                epochs=20,\n",
        "                batch_size=128,\n",
        "                shuffle=True,\n",
        "                validation_data=(x_test, x_test))"
      ],
      "execution_count": null,
      "outputs": [
        {
          "output_type": "stream",
          "text": [
            "Epoch 1/20\n",
            "469/469 [==============================] - 36s 7ms/step - loss: 0.2875 - accuracy: 0.7993 - val_loss: 0.1509 - val_accuracy: 0.8024\n",
            "Epoch 2/20\n",
            "469/469 [==============================] - 3s 6ms/step - loss: 0.1452 - accuracy: 0.8026 - val_loss: 0.1312 - val_accuracy: 0.8035\n",
            "Epoch 3/20\n",
            "469/469 [==============================] - 3s 6ms/step - loss: 0.1296 - accuracy: 0.8061 - val_loss: 0.1220 - val_accuracy: 0.8063\n",
            "Epoch 4/20\n",
            "469/469 [==============================] - 3s 6ms/step - loss: 0.1222 - accuracy: 0.8077 - val_loss: 0.1176 - val_accuracy: 0.8068\n",
            "Epoch 5/20\n",
            "469/469 [==============================] - 3s 6ms/step - loss: 0.1174 - accuracy: 0.8089 - val_loss: 0.1140 - val_accuracy: 0.8086\n",
            "Epoch 6/20\n",
            "469/469 [==============================] - 3s 6ms/step - loss: 0.1144 - accuracy: 0.8098 - val_loss: 0.1112 - val_accuracy: 0.8095\n",
            "Epoch 7/20\n",
            "469/469 [==============================] - 3s 6ms/step - loss: 0.1118 - accuracy: 0.8101 - val_loss: 0.1090 - val_accuracy: 0.8093\n",
            "Epoch 8/20\n",
            "469/469 [==============================] - 3s 6ms/step - loss: 0.1096 - accuracy: 0.8109 - val_loss: 0.1077 - val_accuracy: 0.8097\n",
            "Epoch 9/20\n",
            "469/469 [==============================] - 3s 6ms/step - loss: 0.1081 - accuracy: 0.8111 - val_loss: 0.1061 - val_accuracy: 0.8100\n",
            "Epoch 10/20\n",
            "469/469 [==============================] - 3s 6ms/step - loss: 0.1070 - accuracy: 0.8107 - val_loss: 0.1051 - val_accuracy: 0.8107\n",
            "Epoch 11/20\n",
            "469/469 [==============================] - 3s 6ms/step - loss: 0.1057 - accuracy: 0.8111 - val_loss: 0.1040 - val_accuracy: 0.8105\n",
            "Epoch 12/20\n",
            "469/469 [==============================] - 3s 6ms/step - loss: 0.1048 - accuracy: 0.8113 - val_loss: 0.1029 - val_accuracy: 0.8108\n",
            "Epoch 13/20\n",
            "469/469 [==============================] - 3s 6ms/step - loss: 0.1039 - accuracy: 0.8116 - val_loss: 0.1021 - val_accuracy: 0.8106\n",
            "Epoch 14/20\n",
            "469/469 [==============================] - 3s 6ms/step - loss: 0.1031 - accuracy: 0.8115 - val_loss: 0.1014 - val_accuracy: 0.8108\n",
            "Epoch 15/20\n",
            "469/469 [==============================] - 3s 6ms/step - loss: 0.1024 - accuracy: 0.8119 - val_loss: 0.1007 - val_accuracy: 0.8112\n",
            "Epoch 16/20\n",
            "469/469 [==============================] - 3s 6ms/step - loss: 0.1017 - accuracy: 0.8120 - val_loss: 0.1005 - val_accuracy: 0.8116\n",
            "Epoch 17/20\n",
            "469/469 [==============================] - 3s 6ms/step - loss: 0.1010 - accuracy: 0.8120 - val_loss: 0.0996 - val_accuracy: 0.8109\n",
            "Epoch 18/20\n",
            "469/469 [==============================] - 3s 6ms/step - loss: 0.1004 - accuracy: 0.8123 - val_loss: 0.0992 - val_accuracy: 0.8111\n",
            "Epoch 19/20\n",
            "469/469 [==============================] - 3s 6ms/step - loss: 0.1002 - accuracy: 0.8120 - val_loss: 0.0987 - val_accuracy: 0.8112\n",
            "Epoch 20/20\n",
            "469/469 [==============================] - 3s 6ms/step - loss: 0.0995 - accuracy: 0.8123 - val_loss: 0.0983 - val_accuracy: 0.8113\n"
          ],
          "name": "stdout"
        }
      ]
    },
    {
      "cell_type": "code",
      "metadata": {
        "id": "uFrJ4tK2xF2_"
      },
      "source": [
        "model.save(\"encoder.h5\")"
      ],
      "execution_count": null,
      "outputs": []
    },
    {
      "cell_type": "code",
      "metadata": {
        "colab": {
          "base_uri": "https://localhost:8080/"
        },
        "id": "fM0u_dDVxF9x",
        "outputId": "d1afc7ec-ccfc-4a3f-91e7-d97920f9098b"
      },
      "source": [
        "encdec.history"
      ],
      "execution_count": null,
      "outputs": [
        {
          "output_type": "execute_result",
          "data": {
            "text/plain": [
              "{'accuracy': [0.7973224520683289,\n",
              "  0.8038697242736816,\n",
              "  0.8067253232002258,\n",
              "  0.8080445528030396,\n",
              "  0.8089673519134521,\n",
              "  0.8096481561660767,\n",
              "  0.8101409077644348,\n",
              "  0.8105158805847168,\n",
              "  0.810815155506134,\n",
              "  0.8110455870628357,\n",
              "  0.8112391233444214,\n",
              "  0.8114079833030701,\n",
              "  0.8115687966346741,\n",
              "  0.811697781085968,\n",
              "  0.8118276596069336,\n",
              "  0.8119428753852844,\n",
              "  0.8120467662811279,\n",
              "  0.8121424317359924,\n",
              "  0.8122338652610779,\n",
              "  0.8123102188110352],\n",
              " 'loss': [0.20522911846637726,\n",
              "  0.1402871459722519,\n",
              "  0.12707029283046722,\n",
              "  0.12083206325769424,\n",
              "  0.1168108657002449,\n",
              "  0.11371424794197083,\n",
              "  0.1113482415676117,\n",
              "  0.10945934802293777,\n",
              "  0.10787227004766464,\n",
              "  0.10658752173185349,\n",
              "  0.10550521314144135,\n",
              "  0.10456803441047668,\n",
              "  0.10365982353687286,\n",
              "  0.10289810597896576,\n",
              "  0.10218679904937744,\n",
              "  0.10157353430986404,\n",
              "  0.1009565219283104,\n",
              "  0.10039443522691727,\n",
              "  0.09989962726831436,\n",
              "  0.09943787753582001],\n",
              " 'val_accuracy': [0.8024411797523499,\n",
              "  0.8035389184951782,\n",
              "  0.8063223361968994,\n",
              "  0.8068380355834961,\n",
              "  0.8086355924606323,\n",
              "  0.8094514012336731,\n",
              "  0.8092787265777588,\n",
              "  0.8097362518310547,\n",
              "  0.8099828958511353,\n",
              "  0.8106921911239624,\n",
              "  0.8104801177978516,\n",
              "  0.8107659220695496,\n",
              "  0.8105789422988892,\n",
              "  0.8107559680938721,\n",
              "  0.8112276792526245,\n",
              "  0.8116053342819214,\n",
              "  0.8109362125396729,\n",
              "  0.8110955357551575,\n",
              "  0.8111821413040161,\n",
              "  0.8113465309143066],\n",
              " 'val_loss': [0.15089479088783264,\n",
              "  0.13119244575500488,\n",
              "  0.1219726949930191,\n",
              "  0.11763010174036026,\n",
              "  0.11401749402284622,\n",
              "  0.11121989786624908,\n",
              "  0.10896450281143188,\n",
              "  0.10774924606084824,\n",
              "  0.1060916855931282,\n",
              "  0.10508274286985397,\n",
              "  0.10395529866218567,\n",
              "  0.10290876775979996,\n",
              "  0.1020912230014801,\n",
              "  0.10138154029846191,\n",
              "  0.10067911446094513,\n",
              "  0.10053009539842606,\n",
              "  0.09959441423416138,\n",
              "  0.09920571744441986,\n",
              "  0.098721943795681,\n",
              "  0.09831253439188004]}"
            ]
          },
          "metadata": {
            "tags": []
          },
          "execution_count": 12
        }
      ]
    },
    {
      "cell_type": "code",
      "metadata": {
        "colab": {
          "base_uri": "https://localhost:8080/",
          "height": 545
        },
        "id": "Xnk8o1kExGAD",
        "outputId": "d94b49b5-7e01-4d44-a2e4-9b6b15b3ba3d"
      },
      "source": [
        "\r\n",
        "encdecloss = encdec.history[\"loss\"]\r\n",
        "encdecval_loss = encdec.history[\"val_loss\"]\r\n",
        "encdecacc = encdec.history[\"accuracy\"]\r\n",
        "encdecval_acc = encdec.history[\"val_accuracy\"]\r\n",
        "\r\n",
        "import matplotlib.pyplot as plt\r\n",
        "\r\n",
        "epochs = range(1, len(encdecloss) + 1)\r\n",
        "\r\n",
        "plt.plot(epochs, encdecloss, \"bo\", label = \"Training loss\")\r\n",
        "plt.plot(epochs, encdecval_loss, \"b\", label = \"Test loss\")\r\n",
        "plt.title(\"Training and Test loss\")\r\n",
        "plt.legend()\r\n",
        "plt.show()\r\n",
        "\r\n",
        "plt.plot(epochs, encdecacc, \"bo\", label = \"Training acc\")\r\n",
        "plt.plot(epochs, encdecval_acc, \"b\", label = \"Test acc\")\r\n",
        "plt.title(\"Training and Test Accuracy\")\r\n",
        "plt.legend()\r\n",
        "plt.show()\r\n",
        "\r\n"
      ],
      "execution_count": null,
      "outputs": [
        {
          "output_type": "display_data",
          "data": {
            "image/png": "[encoded data removed]",
            "text/plain": [
              "<Figure size 432x288 with 1 Axes>"
            ]
          },
          "metadata": {
            "tags": [],
            "needs_background": "light"
          }
        },
        {
          "output_type": "display_data",
          "data": {
            "image/png": "[encoded data removed]",
            "text/plain": [
              "<Figure size 432x288 with 1 Axes>"
            ]
          },
          "metadata": {
            "tags": [],
            "needs_background": "light"
          }
        }
      ]
    },
    {
      "cell_type": "code",
      "metadata": {
        "colab": {
          "base_uri": "https://localhost:8080/"
        },
        "id": "0jLNZDll-Gd-",
        "outputId": "6b95730a-397b-44d7-c8d6-b8d8d98aaecb"
      },
      "source": [
        "len(encdec.history[\"accuracy\"])"
      ],
      "execution_count": null,
      "outputs": [
        {
          "output_type": "execute_result",
          "data": {
            "text/plain": [
              "20"
            ]
          },
          "metadata": {
            "tags": []
          },
          "execution_count": 14
        }
      ]
    },
    {
      "cell_type": "code",
      "metadata": {
        "id": "k8YoKcFlr6Nz"
      },
      "source": [
        "import matplotlib.pyplot as plt"
      ],
      "execution_count": null,
      "outputs": []
    },
    {
      "cell_type": "code",
      "metadata": {
        "colab": {
          "base_uri": "https://localhost:8080/",
          "height": 513
        },
        "id": "xsZxXPukr6Yp",
        "outputId": "1ad24000-2525-49f5-a3a1-0207a327d705"
      },
      "source": [
        "plt.figure(figsize=(20, 4))\n",
        "plt.imshow(x_test[59].reshape(28, 28))\n",
        "plt.gray()\n",
        "#get_xaxis().set_visible(False)\n",
        "#get_yaxis().set_visible(False)\n",
        "\n",
        "\n",
        "decoded_imgs = model.predict(x_test)\n",
        "plt.figure(figsize=(20,4))\n",
        "plt.imshow(model.predict(x_test)[59].reshape(28,28))\n",
        "plt.gray()\n",
        "#get_xaxis().set_visible(False)\n",
        "#get_yaxis().set_visible(False)"
      ],
      "execution_count": null,
      "outputs": [
        {
          "output_type": "display_data",
          "data": {
            "image/png": "[encoded data removed]",
            "text/plain": [
              "<Figure size 1440x288 with 1 Axes>"
            ]
          },
          "metadata": {
            "tags": [],
            "needs_background": "light"
          }
        },
        {
          "output_type": "display_data",
          "data": {
            "image/png": "[encoded data removed]",
            "text/plain": [
              "<Figure size 1440x288 with 1 Axes>"
            ]
          },
          "metadata": {
            "tags": [],
            "needs_background": "light"
          }
        }
      ]
    },
    {
      "cell_type": "code",
      "metadata": {
        "colab": {
          "base_uri": "https://localhost:8080/",
          "height": 513
        },
        "id": "uxndr26GUQ2G",
        "outputId": "8dd41df5-6338-4465-bfea-4f6a41e0f33b"
      },
      "source": [
        "plt.figure(figsize=(20, 4))\r\n",
        "plt.imshow(x_test[62].reshape(28, 28))\r\n",
        "plt.gray()\r\n",
        "#get_xaxis().set_visible(False)\r\n",
        "#get_yaxis().set_visible(False)\r\n",
        "\r\n",
        "\r\n",
        "decoded_imgs = model.predict(x_test)\r\n",
        "plt.figure(figsize=(20,4))\r\n",
        "plt.imshow(model.predict(x_test)[62].reshape(28,28))\r\n",
        "plt.gray()\r\n",
        "#get_xaxis().set_visible(False)\r\n",
        "#get_yaxis().set_visible(False)"
      ],
      "execution_count": null,
      "outputs": [
        {
          "output_type": "display_data",
          "data": {
            "image/png": "[encoded data removed]",
            "text/plain": [
              "<Figure size 1440x288 with 1 Axes>"
            ]
          },
          "metadata": {
            "tags": [],
            "needs_background": "light"
          }
        },
        {
          "output_type": "display_data",
          "data": {
            "image/png": "[encoded data removed]",
            "text/plain": [
              "<Figure size 1440x288 with 1 Axes>"
            ]
          },
          "metadata": {
            "tags": [],
            "needs_background": "light"
          }
        }
      ]
    },
    {
      "cell_type": "code",
      "metadata": {
        "colab": {
          "base_uri": "https://localhost:8080/",
          "height": 513
        },
        "id": "L9vWRMGMr6cP",
        "outputId": "d36a1b5b-d4fb-4cf3-b067-cd57795b80d7"
      },
      "source": [
        "plt.figure(figsize=(20, 4))\n",
        "plt.imshow(x_test[61].reshape(28, 28))\n",
        "plt.gray()\n",
        "#get_xaxis().set_visible(False)\n",
        "#get_yaxis().set_visible(False)\n",
        "\n",
        "\n",
        "decoded_imgs = model.predict(x_test)\n",
        "plt.figure(figsize=(20,4))\n",
        "plt.imshow(model.predict(x_test)[61].reshape(28,28))\n",
        "plt.gray()\n",
        "#get_xaxis().set_visible(False)\n",
        "#get_yaxis().set_visible(False)\n"
      ],
      "execution_count": null,
      "outputs": [
        {
          "output_type": "display_data",
          "data": {
            "image/png": "[encoded data removed]",
            "text/plain": [
              "<Figure size 1440x288 with 1 Axes>"
            ]
          },
          "metadata": {
            "tags": [],
            "needs_background": "light"
          }
        },
        {
          "output_type": "display_data",
          "data": {
            "image/png": "[encoded data removed]",
            "text/plain": [
              "<Figure size 1440x288 with 1 Axes>"
            ]
          },
          "metadata": {
            "tags": [],
            "needs_background": "light"
          }
        }
      ]
    },
    {
      "cell_type": "code",
      "metadata": {
        "id": "v8NLdHT2RnGQ"
      },
      "source": [
        "#test_loss, test_acc = model.evaluate(test_images, test_labels)"
      ],
      "execution_count": null,
      "outputs": []
    }
  ]
}